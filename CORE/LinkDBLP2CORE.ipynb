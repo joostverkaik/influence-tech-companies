{
 "cells": [
  {
   "cell_type": "markdown",
   "metadata": {},
   "source": [
    "# Linking field data from CORE to DBLP data\n",
    "\n",
    "* CORE contains for each journal and proceedings a ranking and a field\n",
    "* however the fields are just codes, and I do not know the corresponding names yet\n",
    "    * Note that the orginal field names are fucked up by pandas: 0806 becomes 806.0, etc\n",
    "    \n",
    "* Using a bit of handtweaking we could match all of the 64 A* CORE conferences to DBLP conference acronyms\n",
    "\n",
    "\n",
    "## Result\n",
    "* Dataframe  'Data/AstarCandJ.pkl' with 750K rows from DBLP with additional\n",
    "    * gender\n",
    "    * field\n",
    "    * These are all A* journals and conferences from CORE that could be matched with a DBLP conf or journal\n",
    "\n",
    "\n",
    "## Watch out\n",
    "\n",
    "* DBLP uses the same acronym for a journal and for a conference (e.g. sigmod for sigmod conference and sigmod record)\n",
    "* Thus always make a selection to conference or journal before you join.\n",
    "\n",
    "\n",
    "\n",
    "## Todo, manual tuning\n",
    "\n",
    "### Conf\n",
    "* All 64 A* confs from CORE are matched to DBLP conferences\n",
    "* We end up with this many publication-author pairs from these 64 A* conferences, which are grouped into 7 groups.\n",
    "```\n",
    "male       334959\n",
    "female      82674\n",
    "unknown     61170\n",
    "```\n",
    "\n",
    "#### A and A*\n",
    "* If we consider A and A*, we stil need to match 50 acronyms, but without those 50 we already have 3 times as many pub-author pairs. We then get 8 groups with a size of at least 10 conferences.\n",
    "```\n",
    "male       941369\n",
    "female     233245\n",
    "unknown    180227\n",
    "```\n",
    "\n",
    "### Journal\n",
    "\n",
    "* All journals need to be hand matched it seems, but it is relatively easy I think\n",
    "* Maybe we can do an automatic search...\n",
    "* 60 A* and 149 A.... Still some work.....\n",
    "\n",
    "#### first try on the 60A* ones\n",
    "* 10 journals matched by simply lowercasing\n",
    "* 17 ACM and IEEE matched (hopefully correct) of the 22 ACM and IEEE"
   ]
  },
  {
   "cell_type": "code",
   "execution_count": 2,
   "metadata": {
    "collapsed": false
   },
   "outputs": [
    {
     "name": "stdout",
     "output_type": "stream",
     "text": [
      "DFauthorsindex.ipynb  dblp.dtd              dblp.pkl              dblp.xml              dblpsmall.xml         dblpsmall.xml~\r\n"
     ]
    }
   ],
   "source": [
    "import pandas as pd\n",
    "import re\n",
    "%matplotlib inline\n",
    "%ls DBLP/"
   ]
  },
  {
   "cell_type": "code",
   "execution_count": 4,
   "metadata": {
    "collapsed": false
   },
   "outputs": [
    {
     "name": "stdout",
     "output_type": "stream",
     "text": [
      "CPU times: user 47.6 s, sys: 14.9 s, total: 1min 2s\n",
      "Wall time: 1min 9s\n"
     ]
    }
   ],
   "source": [
    "#!gunzip DBLP/dblp.pkl.gz\n",
    "%time DF= pd.read_pickle('DBLP/dblp.pkl')\n",
    "DF.head()"
   ]
  },
  {
   "cell_type": "code",
   "execution_count": 32,
   "metadata": {
    "collapsed": false
   },
   "outputs": [
    {
     "data": {
      "text/html": [
       "<div>\n",
       "<table border=\"1\" class=\"dataframe\">\n",
       "  <thead>\n",
       "    <tr style=\"text-align: right;\">\n",
       "      <th></th>\n",
       "      <th>Title</th>\n",
       "      <th>Author</th>\n",
       "      <th>Year</th>\n",
       "      <th>PublishedIn</th>\n",
       "      <th>PublishedInDBLPCode</th>\n",
       "      <th>PublicationType</th>\n",
       "      <th>NrOfAuthors</th>\n",
       "      <th>AuthorRank</th>\n",
       "      <th>Gender</th>\n",
       "    </tr>\n",
       "  </thead>\n",
       "  <tbody>\n",
       "    <tr>\n",
       "      <th>0</th>\n",
       "      <td>Parallel Integer Sorting and Simulation Amongs...</td>\n",
       "      <td>Sanjeev Saxena</td>\n",
       "      <td>1996</td>\n",
       "      <td>Acta Inf.</td>\n",
       "      <td>acta</td>\n",
       "      <td>journals</td>\n",
       "      <td>1</td>\n",
       "      <td>1</td>\n",
       "      <td>male</td>\n",
       "    </tr>\n",
       "    <tr>\n",
       "      <th>1</th>\n",
       "      <td>Optimal Sublogarithmic Time Parallel Algorithm...</td>\n",
       "      <td>Sanjeev Saxena</td>\n",
       "      <td>2000</td>\n",
       "      <td>Algorithmica</td>\n",
       "      <td>algorithmica</td>\n",
       "      <td>journals</td>\n",
       "      <td>2</td>\n",
       "      <td>2</td>\n",
       "      <td>male</td>\n",
       "    </tr>\n",
       "    <tr>\n",
       "      <th>2</th>\n",
       "      <td>Parallel Algorithms for Finding the Most Vital...</td>\n",
       "      <td>Sanjeev Saxena</td>\n",
       "      <td>1997</td>\n",
       "      <td>J. Parallel Distrib. Comput.</td>\n",
       "      <td>jpdc</td>\n",
       "      <td>journals</td>\n",
       "      <td>2</td>\n",
       "      <td>2</td>\n",
       "      <td>male</td>\n",
       "    </tr>\n",
       "    <tr>\n",
       "      <th>3</th>\n",
       "      <td>An efficient parallel algorithm for building t...</td>\n",
       "      <td>Sanjeev Saxena</td>\n",
       "      <td>2010</td>\n",
       "      <td>J. Parallel Distrib. Comput.</td>\n",
       "      <td>jpdc</td>\n",
       "      <td>journals</td>\n",
       "      <td>3</td>\n",
       "      <td>2</td>\n",
       "      <td>male</td>\n",
       "    </tr>\n",
       "    <tr>\n",
       "      <th>4</th>\n",
       "      <td>Fast parallel edge colouring of graphs.</td>\n",
       "      <td>Sanjeev Saxena</td>\n",
       "      <td>2003</td>\n",
       "      <td>J. Parallel Distrib. Comput.</td>\n",
       "      <td>jpdc</td>\n",
       "      <td>journals</td>\n",
       "      <td>2</td>\n",
       "      <td>2</td>\n",
       "      <td>male</td>\n",
       "    </tr>\n",
       "  </tbody>\n",
       "</table>\n",
       "</div>"
      ],
      "text/plain": [
       "                                               Title          Author  Year  \\\n",
       "0  Parallel Integer Sorting and Simulation Amongs...  Sanjeev Saxena  1996   \n",
       "1  Optimal Sublogarithmic Time Parallel Algorithm...  Sanjeev Saxena  2000   \n",
       "2  Parallel Algorithms for Finding the Most Vital...  Sanjeev Saxena  1997   \n",
       "3  An efficient parallel algorithm for building t...  Sanjeev Saxena  2010   \n",
       "4            Fast parallel edge colouring of graphs.  Sanjeev Saxena  2003   \n",
       "\n",
       "                    PublishedIn PublishedInDBLPCode PublicationType  \\\n",
       "0                     Acta Inf.                acta        journals   \n",
       "1                  Algorithmica        algorithmica        journals   \n",
       "2  J. Parallel Distrib. Comput.                jpdc        journals   \n",
       "3  J. Parallel Distrib. Comput.                jpdc        journals   \n",
       "4  J. Parallel Distrib. Comput.                jpdc        journals   \n",
       "\n",
       "   NrOfAuthors  AuthorRank Gender  \n",
       "0            1           1   male  \n",
       "1            2           2   male  \n",
       "2            2           2   male  \n",
       "3            3           2   male  \n",
       "4            2           2   male  "
      ]
     },
     "execution_count": 32,
     "metadata": {},
     "output_type": "execute_result"
    }
   ],
   "source": []
  },
  {
   "cell_type": "code",
   "execution_count": 3,
   "metadata": {
    "collapsed": false
   },
   "outputs": [
    {
     "data": {
      "text/html": [
       "<div>\n",
       "<table border=\"1\" class=\"dataframe\">\n",
       "  <thead>\n",
       "    <tr style=\"text-align: right;\">\n",
       "      <th></th>\n",
       "      <th>Title</th>\n",
       "      <th>Acronym</th>\n",
       "      <th>Source</th>\n",
       "      <th>Rank</th>\n",
       "      <th>Changed?</th>\n",
       "      <th>FoR</th>\n",
       "      <th>Comments</th>\n",
       "      <th>AverageRating</th>\n",
       "    </tr>\n",
       "  </thead>\n",
       "  <tbody>\n",
       "    <tr>\n",
       "      <th>2174</th>\n",
       "      <td>Asian Conference on Machine Learning\\n</td>\n",
       "      <td>ACML</td>\n",
       "      <td>CORE2014</td>\n",
       "      <td>Unranked</td>\n",
       "      <td>No</td>\n",
       "      <td>801.0</td>\n",
       "      <td>NaN</td>\n",
       "      <td>NaN</td>\n",
       "    </tr>\n",
       "    <tr>\n",
       "      <th>2173</th>\n",
       "      <td>Information Retrieval Facility Conference</td>\n",
       "      <td>IRFC</td>\n",
       "      <td>CORE2014</td>\n",
       "      <td>Unranked</td>\n",
       "      <td>No</td>\n",
       "      <td>806.0</td>\n",
       "      <td>NaN</td>\n",
       "      <td>NaN</td>\n",
       "    </tr>\n",
       "    <tr>\n",
       "      <th>2172</th>\n",
       "      <td>International Conference on Advanced Communic...</td>\n",
       "      <td>INFOCOMP</td>\n",
       "      <td>CORE2014</td>\n",
       "      <td>Unranked</td>\n",
       "      <td>No</td>\n",
       "      <td>805.0</td>\n",
       "      <td>NaN</td>\n",
       "      <td>NaN</td>\n",
       "    </tr>\n",
       "    <tr>\n",
       "      <th>2087</th>\n",
       "      <td>(Joint) International Conference/Symposium on ...</td>\n",
       "      <td>JICSLP/ICLP/ILPS</td>\n",
       "      <td>CORE2014</td>\n",
       "      <td>A</td>\n",
       "      <td>No</td>\n",
       "      <td>801.0</td>\n",
       "      <td>NaN</td>\n",
       "      <td>NaN</td>\n",
       "    </tr>\n",
       "    <tr>\n",
       "      <th>4</th>\n",
       "      <td>3-D Digital Imaging and Modelling</td>\n",
       "      <td>3DIM</td>\n",
       "      <td>CORE2014</td>\n",
       "      <td>C</td>\n",
       "      <td>No</td>\n",
       "      <td>801.0</td>\n",
       "      <td>NaN</td>\n",
       "      <td>NaN</td>\n",
       "    </tr>\n",
       "  </tbody>\n",
       "</table>\n",
       "</div>"
      ],
      "text/plain": [
       "                                                  Title            Acronym  \\\n",
       "2174             Asian Conference on Machine Learning\\n               ACML   \n",
       "2173          Information Retrieval Facility Conference               IRFC   \n",
       "2172   International Conference on Advanced Communic...           INFOCOMP   \n",
       "2087  (Joint) International Conference/Symposium on ...  JICSLP/ICLP/ILPS    \n",
       "4                     3-D Digital Imaging and Modelling               3DIM   \n",
       "\n",
       "        Source      Rank Changed?    FoR  Comments  AverageRating  \n",
       "2174  CORE2014  Unranked       No  801.0       NaN            NaN  \n",
       "2173  CORE2014  Unranked       No  806.0       NaN            NaN  \n",
       "2172  CORE2014  Unranked       No  805.0       NaN            NaN  \n",
       "2087  CORE2014         A       No  801.0       NaN            NaN  \n",
       "4     CORE2014         C       No  801.0       NaN            NaN  "
      ]
     },
     "execution_count": 3,
     "metadata": {},
     "output_type": "execute_result"
    }
   ],
   "source": [
    "coreproc= pd.read_csv('Data/CORE.csv',header=None, index_col=0,\n",
    "                     names=['Title',  'Acronym',  'Source'  ,'Rank',  'Changed?',  'FoR'  ,'Comments','AverageRating'])\n",
    "#coreproc.sort_values('Rank', inplace=True)\n",
    "coreproc.head()"
   ]
  },
  {
   "cell_type": "code",
   "execution_count": 67,
   "metadata": {
    "collapsed": false
   },
   "outputs": [
    {
     "data": {
      "text/html": [
       "<div>\n",
       "<table border=\"1\" class=\"dataframe\">\n",
       "  <thead>\n",
       "    <tr style=\"text-align: right;\">\n",
       "      <th></th>\n",
       "      <th>title</th>\n",
       "      <th>source</th>\n",
       "      <th>rank</th>\n",
       "      <th>has changed?</th>\n",
       "      <th>for1</th>\n",
       "      <th>for2</th>\n",
       "      <th>for3</th>\n",
       "      <th>ISSN1</th>\n",
       "      <th>ISSN2</th>\n",
       "      <th>ISSN3</th>\n",
       "      <th>ISSN4</th>\n",
       "    </tr>\n",
       "    <tr>\n",
       "      <th>id</th>\n",
       "      <th></th>\n",
       "      <th></th>\n",
       "      <th></th>\n",
       "      <th></th>\n",
       "      <th></th>\n",
       "      <th></th>\n",
       "      <th></th>\n",
       "      <th></th>\n",
       "      <th></th>\n",
       "      <th></th>\n",
       "      <th></th>\n",
       "    </tr>\n",
       "  </thead>\n",
       "  <tbody>\n",
       "    <tr>\n",
       "      <th>555.0</th>\n",
       "      <td>Academy of Information and Management Sciences...</td>\n",
       "      <td>ERA2010\\n</td>\n",
       "      <td>C</td>\n",
       "      <td>No</td>\n",
       "      <td>806</td>\n",
       "      <td>NaN</td>\n",
       "      <td>NaN</td>\n",
       "      <td>1524-7252</td>\n",
       "      <td>1532-5806</td>\n",
       "      <td>NaN</td>\n",
       "      <td>NaN</td>\n",
       "    </tr>\n",
       "    <tr>\n",
       "      <th>665.0</th>\n",
       "      <td>Access</td>\n",
       "      <td>ERA2010\\n</td>\n",
       "      <td>B</td>\n",
       "      <td>No</td>\n",
       "      <td>807</td>\n",
       "      <td>NaN</td>\n",
       "      <td>NaN</td>\n",
       "      <td>1030-0155</td>\n",
       "      <td>NaN</td>\n",
       "      <td>NaN</td>\n",
       "      <td>NaN</td>\n",
       "    </tr>\n",
       "    <tr>\n",
       "      <th>863.0</th>\n",
       "      <td>Access: critical perspectives on communication...</td>\n",
       "      <td>ERA2010\\n</td>\n",
       "      <td>A</td>\n",
       "      <td>No</td>\n",
       "      <td>807</td>\n",
       "      <td>2002.0</td>\n",
       "      <td>2001.0</td>\n",
       "      <td>0111-8889</td>\n",
       "      <td>NaN</td>\n",
       "      <td>NaN</td>\n",
       "      <td>NaN</td>\n",
       "    </tr>\n",
       "    <tr>\n",
       "      <th>789.0</th>\n",
       "      <td>ACM Computers in Entertainment</td>\n",
       "      <td>ERA2010\\n</td>\n",
       "      <td>B</td>\n",
       "      <td>No</td>\n",
       "      <td>899</td>\n",
       "      <td>801.0</td>\n",
       "      <td>NaN</td>\n",
       "      <td>1544-3574</td>\n",
       "      <td>1544-3981</td>\n",
       "      <td>NaN</td>\n",
       "      <td>NaN</td>\n",
       "    </tr>\n",
       "    <tr>\n",
       "      <th>356.0</th>\n",
       "      <td>ACM Computing Surveys</td>\n",
       "      <td>ERA2010\\n</td>\n",
       "      <td>A*</td>\n",
       "      <td>No</td>\n",
       "      <td>803</td>\n",
       "      <td>NaN</td>\n",
       "      <td>NaN</td>\n",
       "      <td>0360-0300</td>\n",
       "      <td>1557-7341</td>\n",
       "      <td>NaN</td>\n",
       "      <td>NaN</td>\n",
       "    </tr>\n",
       "  </tbody>\n",
       "</table>\n",
       "</div>"
      ],
      "text/plain": [
       "                                                   title     source rank  \\\n",
       "id                                                                         \n",
       "555.0  Academy of Information and Management Sciences...  ERA2010\\n    C   \n",
       "665.0                                             Access  ERA2010\\n    B   \n",
       "863.0  Access: critical perspectives on communication...  ERA2010\\n    A   \n",
       "789.0                     ACM Computers in Entertainment  ERA2010\\n    B   \n",
       "356.0                              ACM Computing Surveys  ERA2010\\n   A*   \n",
       "\n",
       "      has changed?  for1    for2    for3      ISSN1      ISSN2 ISSN3 ISSN4  \n",
       "id                                                                          \n",
       "555.0           No   806     NaN     NaN  1524-7252  1532-5806   NaN   NaN  \n",
       "665.0           No   807     NaN     NaN  1030-0155        NaN   NaN   NaN  \n",
       "863.0           No   807  2002.0  2001.0  0111-8889        NaN   NaN   NaN  \n",
       "789.0           No   899   801.0     NaN  1544-3574  1544-3981   NaN   NaN  \n",
       "356.0           No   803     NaN     NaN  0360-0300  1557-7341   NaN   NaN  "
      ]
     },
     "execution_count": 67,
     "metadata": {},
     "output_type": "execute_result"
    }
   ],
   "source": [
    "corejour= pd.read_csv('Data/CORE_journals.csv',skiprows=0, index_col=0)\n",
    "#corejour.sort_values('Rank', inplace=True)\n",
    "corejour.head()"
   ]
  },
  {
   "cell_type": "code",
   "execution_count": 66,
   "metadata": {
    "collapsed": false
   },
   "outputs": [
    {
     "data": {
      "text/plain": [
       "C               846\n",
       "B               431\n",
       "A               238\n",
       "Australasian     78\n",
       "A*               64\n",
       "Unranked          9\n",
       "L                 5\n",
       "National          1\n",
       "Name: Rank, dtype: int64"
      ]
     },
     "execution_count": 66,
     "metadata": {},
     "output_type": "execute_result"
    }
   ],
   "source": [
    "coreproc.Rank.value_counts()"
   ]
  },
  {
   "cell_type": "code",
   "execution_count": 68,
   "metadata": {
    "collapsed": false
   },
   "outputs": [
    {
     "data": {
      "text/plain": [
       "C             384\n",
       "B             220\n",
       "A             149\n",
       "A*             61\n",
       "Not ranked     24\n",
       "Name: rank, dtype: int64"
      ]
     },
     "execution_count": 68,
     "metadata": {},
     "output_type": "execute_result"
    }
   ],
   "source": [
    "corejour['rank'].value_counts()"
   ]
  },
  {
   "cell_type": "markdown",
   "metadata": {},
   "source": [
    "# Restrict to A* conferences\n",
    "\n",
    "* Normalize and rewrite conference acronyms so that they match the DBLP acronyms"
   ]
  },
  {
   "cell_type": "markdown",
   "metadata": {},
   "source": [
    "# Conferences"
   ]
  },
  {
   "cell_type": "code",
   "execution_count": 4,
   "metadata": {
    "collapsed": false
   },
   "outputs": [
    {
     "name": "stderr",
     "output_type": "stream",
     "text": [
      "/Users/admin/anaconda/lib/python2.7/site-packages/ipykernel/__main__.py:2: SettingWithCopyWarning: \n",
      "A value is trying to be set on a copy of a slice from a DataFrame\n",
      "\n",
      "See the caveats in the documentation: http://pandas.pydata.org/pandas-docs/stable/indexing.html#indexing-view-versus-copy\n",
      "  from ipykernel import kernelapp as app\n",
      "/Users/admin/anaconda/lib/python2.7/site-packages/ipykernel/__main__.py:3: SettingWithCopyWarning: \n",
      "A value is trying to be set on a copy of a slice from a DataFrame.\n",
      "Try using .loc[row_indexer,col_indexer] = value instead\n",
      "\n",
      "See the caveats in the documentation: http://pandas.pydata.org/pandas-docs/stable/indexing.html#indexing-view-versus-copy\n",
      "  app.launch_new_instance()\n",
      "/Users/admin/anaconda/lib/python2.7/site-packages/pandas/core/generic.py:2701: SettingWithCopyWarning: \n",
      "A value is trying to be set on a copy of a slice from a DataFrame.\n",
      "Try using .loc[row_indexer,col_indexer] = value instead\n",
      "\n",
      "See the caveats in the documentation: http://pandas.pydata.org/pandas-docs/stable/indexing.html#indexing-view-versus-copy\n",
      "  self[name] = value\n"
     ]
    }
   ],
   "source": [
    "coreprocTop= coreproc[(coreproc.Rank=='A*')]#  | (coreproc.Rank=='A')]\n",
    "coreprocTop.sort_values('Acronym', inplace=True)\n",
    "coreprocTop['NormalizedAcronym'] = coreproc.Acronym.str.lower().str.strip()\n",
    "# The following normalizations are made by hand based on DBLP\n",
    "# Technique: take the acronym or conference title in the CORE list, put it in http://dblp.uni-trier.de/search/\n",
    "# find the corresponding conference\n",
    "# find the correspoding acronym\n",
    "# DBLP uses the acronym of the \"oldest\" incarnation of the conference.\n",
    "# On the DBLP page of the conference you can find this history\n",
    "coreprocTop.NormalizedAcronym= coreprocTop.NormalizedAcronym.str.replace('ieee ','')\n",
    "coreprocTop.NormalizedAcronym= coreprocTop.NormalizedAcronym.str.replace('ijcar','cade')\n",
    "coreprocTop.NormalizedAcronym= coreprocTop.NormalizedAcronym.str.replace('acmmm','mm')\n",
    "coreprocTop.NormalizedAcronym= coreprocTop.NormalizedAcronym.str.replace('icaps','aips')\n",
    "coreprocTop.NormalizedAcronym= coreprocTop.NormalizedAcronym.str.replace('ubicomp','huc')\n",
    "coreprocTop.NormalizedAcronym= coreprocTop.NormalizedAcronym.str.replace('usenix-security','uss')\n",
    "coreprocTop.NormalizedAcronym= coreprocTop.NormalizedAcronym.str.replace('s&p','sp')\n",
    "coreprocTop.NormalizedAcronym= coreprocTop.NormalizedAcronym.str.replace('sigkdd','kdd')"
   ]
  },
  {
   "cell_type": "code",
   "execution_count": 12,
   "metadata": {
    "collapsed": false
   },
   "outputs": [
    {
     "name": "stdout",
     "output_type": "stream",
     "text": [
      "64 64\n"
     ]
    },
    {
     "data": {
      "text/plain": [
       "set()"
      ]
     },
     "execution_count": 12,
     "metadata": {},
     "output_type": "execute_result"
    }
   ],
   "source": [
    "# We had 55 of the 64 acronyms of the top tier conferences in common.\n",
    "# After manually repairing we have all of them fixed. \n",
    "# Not bad\n",
    "print len(set(DF[DF.PublicationType=='conf'].PublishedInDBLPCode) & set(coreprocTop.NormalizedAcronym)), len(set(coreprocTop.NormalizedAcronym))\n",
    "\n",
    "# The missing ones\n",
    "\n",
    "set(coreprocTop.NormalizedAcronym) - set(DF[DF.PublicationType=='conf'].PublishedInDBLPCode) "
   ]
  },
  {
   "cell_type": "markdown",
   "metadata": {},
   "source": [
    "# Journals"
   ]
  },
  {
   "cell_type": "code",
   "execution_count": 13,
   "metadata": {
    "collapsed": false
   },
   "outputs": [
    {
     "name": "stdout",
     "output_type": "stream",
     "text": [
      "(60, 11)\n"
     ]
    }
   ],
   "source": [
    "corejourTop= corejour[corejour['rank']=='A*']\n",
    "print corejourTop.shape\n"
   ]
  },
  {
   "cell_type": "markdown",
   "metadata": {},
   "source": [
    "# Lijst met alle DBLP journals en hun code"
   ]
  },
  {
   "cell_type": "code",
   "execution_count": 40,
   "metadata": {
    "collapsed": false
   },
   "outputs": [
    {
     "name": "stdout",
     "output_type": "stream",
     "text": [
      "(1633, 2)\n"
     ]
    },
    {
     "data": {
      "text/html": [
       "<div>\n",
       "<table border=\"1\" class=\"dataframe\">\n",
       "  <thead>\n",
       "    <tr style=\"text-align: right;\">\n",
       "      <th></th>\n",
       "      <th>PublishedIn</th>\n",
       "      <th>PublishedInDBLPCode</th>\n",
       "    </tr>\n",
       "    <tr>\n",
       "      <th>PublishedIn</th>\n",
       "      <th></th>\n",
       "      <th></th>\n",
       "    </tr>\n",
       "  </thead>\n",
       "  <tbody>\n",
       "    <tr>\n",
       "      <th>acta inf.</th>\n",
       "      <td>Acta Inf.</td>\n",
       "      <td>acta</td>\n",
       "    </tr>\n",
       "    <tr>\n",
       "      <th>algorithmica</th>\n",
       "      <td>Algorithmica</td>\n",
       "      <td>algorithmica</td>\n",
       "    </tr>\n",
       "    <tr>\n",
       "      <th>j. parallel distrib. comput.</th>\n",
       "      <td>J. Parallel Distrib. Comput.</td>\n",
       "      <td>jpdc</td>\n",
       "    </tr>\n",
       "    <tr>\n",
       "      <th>j. comb. optim.</th>\n",
       "      <td>J. Comb. Optim.</td>\n",
       "      <td>jco</td>\n",
       "    </tr>\n",
       "    <tr>\n",
       "      <th>ieee trans. computers</th>\n",
       "      <td>IEEE Trans. Computers</td>\n",
       "      <td>tc</td>\n",
       "    </tr>\n",
       "  </tbody>\n",
       "</table>\n",
       "</div>"
      ],
      "text/plain": [
       "                                               PublishedIn PublishedInDBLPCode\n",
       "PublishedIn                                                                   \n",
       "acta inf.                                        Acta Inf.                acta\n",
       "algorithmica                                  Algorithmica        algorithmica\n",
       "j. parallel distrib. comput.  J. Parallel Distrib. Comput.                jpdc\n",
       "j. comb. optim.                            J. Comb. Optim.                 jco\n",
       "ieee trans. computers                IEEE Trans. Computers                  tc"
      ]
     },
     "execution_count": 40,
     "metadata": {},
     "output_type": "execute_result"
    }
   ],
   "source": [
    "DBLPjournals= DF[DF.PublicationType=='journals'][['PublishedIn','PublishedInDBLPCode']]\n",
    "DBLPjournals.index= DBLPjournals.PublishedIn.str.lower().str.strip()\n",
    "DBLPjournals.drop_duplicates(inplace=True)\n",
    "print DBLPjournals.shape\n",
    "DBLPjournals.head()"
   ]
  },
  {
   "cell_type": "code",
   "execution_count": 14,
   "metadata": {
    "collapsed": false
   },
   "outputs": [
    {
     "data": {
      "text/plain": [
       "'tochi'"
      ]
     },
     "execution_count": 14,
     "metadata": {},
     "output_type": "execute_result"
    }
   ],
   "source": [
    "# vertalings truc\n",
    "j='acm transactions on computer - human interaction'\n",
    "''.join([w[0] for w in re.sub('[^a-z ]','',j).replace('acm','').split()])\n",
    "\n",
    "#re.sub('[^a-z ]','',j)"
   ]
  },
  {
   "cell_type": "code",
   "execution_count": 84,
   "metadata": {
    "collapsed": false
   },
   "outputs": [
    {
     "name": "stdout",
     "output_type": "stream",
     "text": [
      "45 52\n",
      "set(['tods', 'cj', 'ejis', 'arist', 'jmis', 'ai', 'tip', 'is', 'tec', 'vldb', 'ipm', 'cs', 'toplas', 'jcss', 'jsis', 'misq', 'jasis', 'pr', 'tit', 'tse', 'creativity', 'mansci', 'tr', 'tmc', 'ijrr', 'tmi', 'siamcomp', 'tc', 'tochi', 'algorithmica', 'mor', 'jpdc', 'ior', 'joc', 'tocs', 'cogsci', 'tfs', 'dss', 'coling', 'isr', 'toms', 'tog', 'jacm', 'ml', 'tnn'])\n"
     ]
    }
   ],
   "source": [
    "# Schema =  DBLP.PublishedInDBLPCode: corejourTop.Normalizedtitle \n",
    "\n",
    "translation= {'algorithmica: an international journal in computer science': 'algorithmica',\n",
    " 'information systems': 'is',\n",
    " 'siam journal on computing': 'siamcomp',\n",
    " 'the vldb journal': 'vldb',\n",
    "              'Proceedings VLDB':'pvldb',\n",
    "             'journal of the acm':'jacm',\n",
    "             'annual review of information science and technology':'arist',\n",
    "             'artificial intelligence':'ai',\n",
    "            'european journal of information systems':'ejis',\n",
    "            'information and management':'ipm',\n",
    "            'information systems journal: an international journal promoting the study and practice of information systems':'is',\n",
    "             'international journal of robotics research':'ijrr',\n",
    "             'journal of computer and system sciences':'jcss',\n",
    "              'journal of cryptology':'joc',\n",
    "              'journal of information technology':'jasis',\n",
    "              'journal of management information systems':'jmis',\n",
    "              'journal of parallel and distributed computing':'jpdc',\n",
    "              'journal of the american society for information science and technology':'jsis',\n",
    "              'library and information science research':'libres',\n",
    "              'mathematics of operations research':'mor',\n",
    "              'the computer journal':'cj'\n",
    "              \n",
    "             }\n",
    "\n",
    "\n",
    "DBLP_NormalizedJournalTitles= set(DF[DF.PublicationType=='journals'].PublishedIn.str.lower().str.strip())\n",
    "# Translation function\n",
    "def CoreJournalTitle2DBLPcode(j):\n",
    "    if j.startswith('acm'):\n",
    "        dblp= ''.join([w[0] for w in re.sub('[^a-z ]','',j).replace('acm','').split()])\n",
    "    elif j.startswith('ieee'):\n",
    "        dblp= ''.join([w[0] for w in re.sub('[^a-z ]','',j).replace('ieee','').replace('on','').split()]) \n",
    "    elif j in translation:\n",
    "        dblp = translation[j]\n",
    "    elif j in DBLPjournals.index:\n",
    "        dblp= DBLPjournals.loc[j].PublishedInDBLPCode \n",
    "    else:\n",
    "        dblp=None\n",
    "    return dblp\n",
    "# Do the translation\n",
    "corejourTop['Normalizedtitle'] = corejourTop.title.str.lower().str.strip()\n",
    "corejourTop['DBLPacronym'] = corejourTop.Normalizedtitle.apply(CoreJournalTitle2DBLPcode)\n",
    "corejourTop['NormalizedAcronym']= corejourTop['DBLPacronym']\n",
    "corejourTop['FoR']= corejourTop.for1\n",
    "\n",
    "\n",
    "\n",
    "#for j in set(corejourTop.Normalizedtitle):\n",
    "#    print j, CoreJournalTitle2DBLPcode(j)\n",
    "\n",
    "\n",
    "\n",
    "\n",
    "# On the normalized acronyms\n",
    "print len(set(DF[DF.PublicationType=='journals'].PublishedInDBLPCode ) & set(corejourTop.DBLPacronym)), len(set(corejourTop.DBLPacronym))\n",
    "\n",
    "print set(DF[DF.PublicationType=='journals'].PublishedInDBLPCode) & set(corejourTop.DBLPacronym)\n",
    "# The missing ones\n",
    "\n",
    "#set(corejourTop.Normalizedtitle) - set(DF[DF.PublicationType=='journals'].PublishedIn.str.lower().str.strip())\n",
    "\n",
    "# on journal titles\n",
    "\n",
    "#print len(set(DF[DF.PublicationType=='journals'].PublishedIn.str.lower().str.strip()) & set(corejourTop.Normalizedtitle)), len(set(corejourTop.Normalizedtitle))\n",
    "\n",
    "#print set(DF[DF.PublicationType=='journals'].PublishedIn.str.lower().str.strip()) & set(corejourTop.Normalizedtitle)"
   ]
  },
  {
   "cell_type": "code",
   "execution_count": 79,
   "metadata": {
    "collapsed": false
   },
   "outputs": [
    {
     "name": "stdout",
     "output_type": "stream",
     "text": [
      "matched journals: (52, 13)\n",
      "CORE A* journals not in DBLP:\n"
     ]
    },
    {
     "data": {
      "text/html": [
       "<div>\n",
       "<table border=\"1\" class=\"dataframe\">\n",
       "  <thead>\n",
       "    <tr style=\"text-align: right;\">\n",
       "      <th></th>\n",
       "      <th>title</th>\n",
       "      <th>source</th>\n",
       "      <th>rank</th>\n",
       "      <th>has changed?</th>\n",
       "      <th>for1</th>\n",
       "      <th>for2</th>\n",
       "      <th>for3</th>\n",
       "      <th>ISSN1</th>\n",
       "      <th>ISSN2</th>\n",
       "      <th>ISSN3</th>\n",
       "      <th>ISSN4</th>\n",
       "      <th>Normalizedtitle</th>\n",
       "      <th>DBLPacronym</th>\n",
       "    </tr>\n",
       "    <tr>\n",
       "      <th>id</th>\n",
       "      <th></th>\n",
       "      <th></th>\n",
       "      <th></th>\n",
       "      <th></th>\n",
       "      <th></th>\n",
       "      <th></th>\n",
       "      <th></th>\n",
       "      <th></th>\n",
       "      <th></th>\n",
       "      <th></th>\n",
       "      <th></th>\n",
       "      <th></th>\n",
       "      <th></th>\n",
       "    </tr>\n",
       "  </thead>\n",
       "  <tbody>\n",
       "    <tr>\n",
       "      <th>660</th>\n",
       "      <td>Archival Science</td>\n",
       "      <td>ERA2010\\n</td>\n",
       "      <td>A*</td>\n",
       "      <td>No</td>\n",
       "      <td>807</td>\n",
       "      <td>NaN</td>\n",
       "      <td>NaN</td>\n",
       "      <td>1389-0166</td>\n",
       "      <td>1042-1467</td>\n",
       "      <td>NaN</td>\n",
       "      <td>NaN</td>\n",
       "      <td>archival science</td>\n",
       "      <td>None</td>\n",
       "    </tr>\n",
       "    <tr>\n",
       "      <th>661</th>\n",
       "      <td>Archivaria</td>\n",
       "      <td>ERA2010\\n</td>\n",
       "      <td>A*</td>\n",
       "      <td>No</td>\n",
       "      <td>807</td>\n",
       "      <td>2102.0</td>\n",
       "      <td>NaN</td>\n",
       "      <td>0318-6954</td>\n",
       "      <td>0068-824X</td>\n",
       "      <td>NaN</td>\n",
       "      <td>NaN</td>\n",
       "      <td>archivaria</td>\n",
       "      <td>None</td>\n",
       "    </tr>\n",
       "    <tr>\n",
       "      <th>157</th>\n",
       "      <td>Behavioral and Brain Sciences</td>\n",
       "      <td>ERA2010\\n</td>\n",
       "      <td>A*</td>\n",
       "      <td>No</td>\n",
       "      <td>801</td>\n",
       "      <td>1109.0</td>\n",
       "      <td>1702.0</td>\n",
       "      <td>0140-525X</td>\n",
       "      <td>1469-1825</td>\n",
       "      <td>NaN</td>\n",
       "      <td>NaN</td>\n",
       "      <td>behavioral and brain sciences</td>\n",
       "      <td>None</td>\n",
       "    </tr>\n",
       "    <tr>\n",
       "      <th>158</th>\n",
       "      <td>Cognition</td>\n",
       "      <td>ERA2010\\n</td>\n",
       "      <td>A*</td>\n",
       "      <td>No</td>\n",
       "      <td>801</td>\n",
       "      <td>1701.0</td>\n",
       "      <td>1702.0</td>\n",
       "      <td>0010-0277</td>\n",
       "      <td>1873-7838</td>\n",
       "      <td>NaN</td>\n",
       "      <td>NaN</td>\n",
       "      <td>cognition</td>\n",
       "      <td>None</td>\n",
       "    </tr>\n",
       "    <tr>\n",
       "      <th>159</th>\n",
       "      <td>Cognitive Psychology</td>\n",
       "      <td>ERA2010\\n</td>\n",
       "      <td>A*</td>\n",
       "      <td>No</td>\n",
       "      <td>801</td>\n",
       "      <td>1701.0</td>\n",
       "      <td>1702.0</td>\n",
       "      <td>0010-0285</td>\n",
       "      <td>1095-5623</td>\n",
       "      <td>NaN</td>\n",
       "      <td>NaN</td>\n",
       "      <td>cognitive psychology</td>\n",
       "      <td>None</td>\n",
       "    </tr>\n",
       "    <tr>\n",
       "      <th>831</th>\n",
       "      <td>Computers and Structures</td>\n",
       "      <td>ERA2010\\n</td>\n",
       "      <td>A*</td>\n",
       "      <td>No</td>\n",
       "      <td>802</td>\n",
       "      <td>913.0</td>\n",
       "      <td>905.0</td>\n",
       "      <td>0045-7949</td>\n",
       "      <td>1879-2243</td>\n",
       "      <td>NaN</td>\n",
       "      <td>NaN</td>\n",
       "      <td>computers and structures</td>\n",
       "      <td>None</td>\n",
       "    </tr>\n",
       "    <tr>\n",
       "      <th>664</th>\n",
       "      <td>The Library: the transactions of the Bibliogra...</td>\n",
       "      <td>ERA2010\\n</td>\n",
       "      <td>A*</td>\n",
       "      <td>No</td>\n",
       "      <td>807</td>\n",
       "      <td>2005.0</td>\n",
       "      <td>2103.0</td>\n",
       "      <td>0024-2160</td>\n",
       "      <td>1744-8581</td>\n",
       "      <td>NaN</td>\n",
       "      <td>NaN</td>\n",
       "      <td>the library: the transactions of the bibliogra...</td>\n",
       "      <td>None</td>\n",
       "    </tr>\n",
       "    <tr>\n",
       "      <th>170</th>\n",
       "      <td>Trends in Cognitive Sciences</td>\n",
       "      <td>ERA2010\\n</td>\n",
       "      <td>A*</td>\n",
       "      <td>No</td>\n",
       "      <td>801</td>\n",
       "      <td>1701.0</td>\n",
       "      <td>1702.0</td>\n",
       "      <td>1364-6613</td>\n",
       "      <td>NaN</td>\n",
       "      <td>NaN</td>\n",
       "      <td>NaN</td>\n",
       "      <td>trends in cognitive sciences</td>\n",
       "      <td>None</td>\n",
       "    </tr>\n",
       "  </tbody>\n",
       "</table>\n",
       "</div>"
      ],
      "text/plain": [
       "                                                 title     source rank  \\\n",
       "id                                                                       \n",
       "660                                   Archival Science  ERA2010\\n   A*   \n",
       "661                                         Archivaria  ERA2010\\n   A*   \n",
       "157                      Behavioral and Brain Sciences  ERA2010\\n   A*   \n",
       "158                                          Cognition  ERA2010\\n   A*   \n",
       "159                               Cognitive Psychology  ERA2010\\n   A*   \n",
       "831                           Computers and Structures  ERA2010\\n   A*   \n",
       "664  The Library: the transactions of the Bibliogra...  ERA2010\\n   A*   \n",
       "170                       Trends in Cognitive Sciences  ERA2010\\n   A*   \n",
       "\n",
       "    has changed?  for1    for2    for3      ISSN1      ISSN2 ISSN3 ISSN4  \\\n",
       "id                                                                         \n",
       "660           No   807     NaN     NaN  1389-0166  1042-1467   NaN   NaN   \n",
       "661           No   807  2102.0     NaN  0318-6954  0068-824X   NaN   NaN   \n",
       "157           No   801  1109.0  1702.0  0140-525X  1469-1825   NaN   NaN   \n",
       "158           No   801  1701.0  1702.0  0010-0277  1873-7838   NaN   NaN   \n",
       "159           No   801  1701.0  1702.0  0010-0285  1095-5623   NaN   NaN   \n",
       "831           No   802   913.0   905.0  0045-7949  1879-2243   NaN   NaN   \n",
       "664           No   807  2005.0  2103.0  0024-2160  1744-8581   NaN   NaN   \n",
       "170           No   801  1701.0  1702.0  1364-6613        NaN   NaN   NaN   \n",
       "\n",
       "                                       Normalizedtitle DBLPacronym  \n",
       "id                                                                  \n",
       "660                                   archival science        None  \n",
       "661                                         archivaria        None  \n",
       "157                      behavioral and brain sciences        None  \n",
       "158                                          cognition        None  \n",
       "159                               cognitive psychology        None  \n",
       "831                           computers and structures        None  \n",
       "664  the library: the transactions of the bibliogra...        None  \n",
       "170                       trends in cognitive sciences        None  "
      ]
     },
     "execution_count": 79,
     "metadata": {},
     "output_type": "execute_result"
    }
   ],
   "source": [
    "# The missing ones\n",
    "\n",
    "print \"matched journals:\", corejourTop[corejourTop.DBLPacronym.notnull()].shape\n",
    "print \"CORE A* journals not in DBLP:\"\n",
    "corejourTop[corejourTop.DBLPacronym.isnull()]#.Normalizedtitle.values"
   ]
  },
  {
   "cell_type": "markdown",
   "metadata": {},
   "source": [
    "# The fields in the A* conferences"
   ]
  },
  {
   "cell_type": "code",
   "execution_count": 109,
   "metadata": {
    "collapsed": false
   },
   "outputs": [
    {
     "data": {
      "image/png": "[encoded data removed]",
      "text/plain": [
       "<matplotlib.figure.Figure at 0x117cb7b10>"
      ]
     },
     "metadata": {},
     "output_type": "display_data"
    }
   ],
   "source": [
    "coreprocTop.FoR.value_counts().plot(kind='barh');"
   ]
  },
  {
   "cell_type": "code",
   "execution_count": 20,
   "metadata": {
    "collapsed": false
   },
   "outputs": [
    {
     "name": "stdout",
     "output_type": "stream",
     "text": [
      "801.0 AAAI,AAMAS,ACL,COLT,FOGA,ICAPS,ICCV,ICML,IEEE InfoVis,IJCAI,IJCAR,ISMAR,KR,NIPS,RSS,SIGGRAPH,UAI\n",
      "802.0 CAV,FOCS,ISSAC,LICS,S&P,SODA,STOC\n",
      "803.0 ACMMM,ASPLOS,CCS,HPCA,ICFP,ICSE,ISCA,OOPSLA,OSDI,PLDI,POPL,SIGCOMM,SOSP,USENIX-Security\n",
      "804.0 CRYPTO,DCC,EuroCrypt,ICDE,ICDM,PODS,SIGKDD,SIGMOD,VLDB,WSDM\n",
      "805.0 IEEE INFOCOM,PERCOM,PERVASIVE,PODC,UbiComp,WWW\n",
      "806.0 CHI,ICIS,ISWC,JCDL ,SIGIR\n",
      "1006.0 IPSN,MOBICOM,RTSS,SENSYS,SIGMETRICS\n"
     ]
    }
   ],
   "source": [
    "for f in set(coreprocTop.FoR.values):\n",
    "    L=list(coreprocTop[coreprocTop.FoR==f].Acronym.value_counts().index)\n",
    "    L.sort()\n",
    "    print f,  ','.join(L)"
   ]
  },
  {
   "cell_type": "code",
   "execution_count": 16,
   "metadata": {
    "collapsed": false
   },
   "outputs": [
    {
     "name": "stdout",
     "output_type": "stream",
     "text": [
      "None\n"
     ]
    }
   ],
   "source": [
    "L=[]\n",
    "print L.sort()"
   ]
  },
  {
   "cell_type": "code",
   "execution_count": 85,
   "metadata": {
    "collapsed": false
   },
   "outputs": [
    {
     "name": "stdout",
     "output_type": "stream",
     "text": [
      "(478803, 11) (278194, 11) (756997, 11)\n"
     ]
    }
   ],
   "source": [
    "# Merge for conferences\n",
    "\n",
    "conf = pd.merge(DF[DF.PublicationType=='conf'], coreprocTop[['FoR', 'NormalizedAcronym']], \n",
    "              how='inner',left_on='PublishedInDBLPCode', right_on='NormalizedAcronym')\n",
    "\n",
    "jour = pd.merge(DF[DF.PublicationType=='journals'], corejourTop[['FoR', 'NormalizedAcronym']], \n",
    "              how='inner',left_on='PublishedInDBLPCode', right_on='NormalizedAcronym')\n",
    "\n",
    "AstarCandJ= pd.concat([conf,jour])\n",
    "\n",
    "print conf.shape, jour.shape, AstarCandJ.shape\n",
    "\n",
    "\n"
   ]
  },
  {
   "cell_type": "code",
   "execution_count": 103,
   "metadata": {
    "collapsed": false
   },
   "outputs": [
    {
     "data": {
      "text/html": [
       "<div>\n",
       "<table border=\"1\" class=\"dataframe\">\n",
       "  <thead>\n",
       "    <tr style=\"text-align: right;\">\n",
       "      <th>PublicationType</th>\n",
       "      <th>conf</th>\n",
       "      <th>journals</th>\n",
       "      <th>All</th>\n",
       "    </tr>\n",
       "    <tr>\n",
       "      <th>Gender</th>\n",
       "      <th></th>\n",
       "      <th></th>\n",
       "      <th></th>\n",
       "    </tr>\n",
       "  </thead>\n",
       "  <tbody>\n",
       "    <tr>\n",
       "      <th>female</th>\n",
       "      <td>82674.0</td>\n",
       "      <td>40767.0</td>\n",
       "      <td>123441.0</td>\n",
       "    </tr>\n",
       "    <tr>\n",
       "      <th>male</th>\n",
       "      <td>334959.0</td>\n",
       "      <td>188750.0</td>\n",
       "      <td>523709.0</td>\n",
       "    </tr>\n",
       "    <tr>\n",
       "      <th>unknown</th>\n",
       "      <td>61170.0</td>\n",
       "      <td>48677.0</td>\n",
       "      <td>109847.0</td>\n",
       "    </tr>\n",
       "    <tr>\n",
       "      <th>All</th>\n",
       "      <td>478803.0</td>\n",
       "      <td>278194.0</td>\n",
       "      <td>756997.0</td>\n",
       "    </tr>\n",
       "  </tbody>\n",
       "</table>\n",
       "</div>"
      ],
      "text/plain": [
       "PublicationType      conf  journals       All\n",
       "Gender                                       \n",
       "female            82674.0   40767.0  123441.0\n",
       "male             334959.0  188750.0  523709.0\n",
       "unknown           61170.0   48677.0  109847.0\n",
       "All              478803.0  278194.0  756997.0"
      ]
     },
     "execution_count": 103,
     "metadata": {},
     "output_type": "execute_result"
    }
   ],
   "source": [
    "AstarCandJ.pivot_table(index='Gender', columns='PublicationType', \n",
    "                       values='NrOfAuthors', \n",
    "                       aggfunc=len,\n",
    "                       margins=True) # / len(AstarCandJ)"
   ]
  },
  {
   "cell_type": "code",
   "execution_count": 104,
   "metadata": {
    "collapsed": true
   },
   "outputs": [],
   "source": [
    "AstarCandJ.to_pickle('Data/AstarCandJ.pkl')"
   ]
  },
  {
   "cell_type": "code",
   "execution_count": null,
   "metadata": {
    "collapsed": true
   },
   "outputs": [],
   "source": []
  }
 ],
 "metadata": {
  "kernelspec": {
   "display_name": "Python 3",
   "language": "python",
   "name": "python3"
  },
  "language_info": {
   "codemirror_mode": {
    "name": "ipython",
    "version": 3
   },
   "file_extension": ".py",
   "mimetype": "text/x-python",
   "name": "python",
   "nbconvert_exporter": "python",
   "pygments_lexer": "ipython3",
   "version": "3.5.3"
  }
 },
 "nbformat": 4,
 "nbformat_minor": 0
}
